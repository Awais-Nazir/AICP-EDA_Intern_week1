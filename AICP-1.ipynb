{
 "cells": [
  {
   "cell_type": "markdown",
   "id": "5c1d2e8e-b80e-4f89-8acd-6f8ededc92b8",
   "metadata": {},
   "source": [
    "# AICP Internship Task 1"
   ]
  },
  {
   "cell_type": "code",
   "execution_count": 1,
   "id": "b0aa11df-2bd3-46bd-9f4e-03705bc2fe37",
   "metadata": {},
   "outputs": [],
   "source": [
    "import numpy as np"
   ]
  },
  {
   "cell_type": "markdown",
   "id": "80f7c7c7-6032-481d-8db1-e0fa673aa9ed",
   "metadata": {},
   "source": [
    "## Write a NumPy program to create an array of all even integers from 30 to 70. "
   ]
  },
  {
   "cell_type": "code",
   "execution_count": 2,
   "id": "30411afb-98d1-4d81-aca5-49091c3aa33d",
   "metadata": {},
   "outputs": [
    {
     "data": {
      "text/plain": [
       "array([30, 32, 34, 36, 38, 40, 42, 44, 46, 48, 50, 52, 54, 56, 58, 60, 62,\n",
       "       64, 66, 68, 70])"
      ]
     },
     "execution_count": 2,
     "metadata": {},
     "output_type": "execute_result"
    }
   ],
   "source": [
    "even_integers = np.arange(30,71,2)\n",
    "even_integers"
   ]
  },
  {
   "cell_type": "markdown",
   "id": "2e203a27-6601-4d4a-aa8e-c2cac5d3cba8",
   "metadata": {},
   "source": [
    "## Write a NumPy program to generate an array of 15 random numbers from a standard normal \n",
    "distribution.\r"
   ]
  },
  {
   "cell_type": "code",
   "execution_count": null,
   "id": "cdc6ed59-906d-4f12-96f3-82c312b57f92",
   "metadata": {},
   "outputs": [],
   "source": [
    "random_std = np."
   ]
  }
 ],
 "metadata": {
  "kernelspec": {
   "display_name": "Python 3 (ipykernel)",
   "language": "python",
   "name": "python3"
  },
  "language_info": {
   "codemirror_mode": {
    "name": "ipython",
    "version": 3
   },
   "file_extension": ".py",
   "mimetype": "text/x-python",
   "name": "python",
   "nbconvert_exporter": "python",
   "pygments_lexer": "ipython3",
   "version": "3.12.1"
  }
 },
 "nbformat": 4,
 "nbformat_minor": 5
}
