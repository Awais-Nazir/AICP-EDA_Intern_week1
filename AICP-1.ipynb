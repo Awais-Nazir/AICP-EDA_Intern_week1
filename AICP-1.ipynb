{
 "cells": [
  {
   "cell_type": "markdown",
   "id": "4986e1c4-8159-453e-b0aa-300a4f63dcd5",
   "metadata": {},
   "source": [
    "# AICP Internship Task 1"
   ]
  },
  {
   "cell_type": "code",
   "execution_count": 1,
   "id": "b0aa11df-2bd3-46bd-9f4e-03705bc2fe37",
   "metadata": {},
   "outputs": [],
   "source": [
    "import numpy as np"
   ]
  },
  {
   "cell_type": "markdown",
   "id": "80f7c7c7-6032-481d-8db1-e0fa673aa9ed",
   "metadata": {},
   "source": [
    "## Write a NumPy program to create an array of all even integers from 30 to 70. "
   ]
  },
  {
   "cell_type": "code",
   "execution_count": 2,
   "id": "30411afb-98d1-4d81-aca5-49091c3aa33d",
   "metadata": {},
   "outputs": [
    {
     "data": {
      "text/plain": [
       "array([30, 32, 34, 36, 38, 40, 42, 44, 46, 48, 50, 52, 54, 56, 58, 60, 62,\n",
       "       64, 66, 68, 70])"
      ]
     },
     "execution_count": 2,
     "metadata": {},
     "output_type": "execute_result"
    }
   ],
   "source": [
    "even_integers = np.arange(30,71,2)\n",
    "even_integers"
   ]
  },
  {
   "cell_type": "markdown",
   "id": "2e203a27-6601-4d4a-aa8e-c2cac5d3cba8",
   "metadata": {},
   "source": [
    "## Write a NumPy program to generate an array of 15 random numbers from a standard normal \n",
    "distribution.\r"
   ]
  },
  {
   "cell_type": "code",
   "execution_count": 3,
   "id": "cdc6ed59-906d-4f12-96f3-82c312b57f92",
   "metadata": {},
   "outputs": [
    {
     "data": {
      "text/plain": [
       "array([ 0.00307124, -0.89429018,  1.28295311, -1.56593407, -0.97310731,\n",
       "        0.34676833,  0.53464569, -0.425935  ,  0.03753313, -1.07707205,\n",
       "        0.8649045 , -1.46886866,  1.25722237, -1.58890554,  0.36062698])"
      ]
     },
     "execution_count": 3,
     "metadata": {},
     "output_type": "execute_result"
    }
   ],
   "source": [
    "random_std = np.random.randn(15)\n",
    "random_std"
   ]
  },
  {
   "cell_type": "code",
   "execution_count": 4,
   "id": "446d2638-eb1b-46fe-8558-e89d764a5c9c",
   "metadata": {},
   "outputs": [
    {
     "data": {
      "text/plain": [
       "(15,)"
      ]
     },
     "execution_count": 4,
     "metadata": {},
     "output_type": "execute_result"
    }
   ],
   "source": [
    "random_std.shape"
   ]
  },
  {
   "cell_type": "code",
   "execution_count": 5,
   "id": "b2b17506-3dcd-42e7-a51a-7ab1d6818a20",
   "metadata": {},
   "outputs": [
    {
     "data": {
      "text/plain": [
       "array([[ 0.00307124, -0.89429018,  1.28295311],\n",
       "       [-1.56593407, -0.97310731,  0.34676833],\n",
       "       [ 0.53464569, -0.425935  ,  0.03753313],\n",
       "       [-1.07707205,  0.8649045 , -1.46886866],\n",
       "       [ 1.25722237, -1.58890554,  0.36062698]])"
      ]
     },
     "execution_count": 5,
     "metadata": {},
     "output_type": "execute_result"
    }
   ],
   "source": [
    "random_std.resize(5,3)\n",
    "random_std"
   ]
  },
  {
   "cell_type": "markdown",
   "id": "b89b931c-0e39-43d0-b109-a19070688f2b",
   "metadata": {},
   "source": [
    "## How to compute the cross-product of two matrices in NumPy?"
   ]
  },
  {
   "cell_type": "code",
   "execution_count": 9,
   "id": "6860f22c-db6b-4b3c-9d36-bc762b5807c7",
   "metadata": {
    "jp-MarkdownHeadingCollapsed": true
   },
   "outputs": [
    {
     "data": {
      "text/plain": [
       "array([[ -92,   80,   87],\n",
       "       [-144,   96,   48]])"
      ]
     },
     "execution_count": 9,
     "metadata": {},
     "output_type": "execute_result"
    }
   ],
   "source": [
    "A = np.random.randint(2,15,(2,3))\n",
    "B = np.random.randint(15,30,(2,2))\n",
    "np.cross(A,B)"
   ]
  },
  {
   "cell_type": "markdown",
   "id": "b1f0ee8b-33ef-4a91-9d13-e54016296536",
   "metadata": {},
   "source": [
    "## How to compute the determinant of an array using NumPy?"
   ]
  },
  {
   "cell_type": "code",
   "execution_count": 13,
   "id": "e277da59-7c5e-491e-a793-fe2d24f46f8c",
   "metadata": {},
   "outputs": [
    {
     "data": {
      "text/plain": [
       "1127.9999999999995"
      ]
     },
     "execution_count": 13,
     "metadata": {},
     "output_type": "execute_result"
    }
   ],
   "source": [
    "matrix1 = np.random.randint(1,9,(4,4))\n",
    "# matrix1\n",
    "np.linalg.det(matrix1)"
   ]
  },
  {
   "cell_type": "markdown",
   "id": "1c250cc0-1fb9-41d1-bdcb-41ea28f3b0ea",
   "metadata": {},
   "source": [
    "## How to create a 3x3x3 array with random values using NumPy?"
   ]
  },
  {
   "cell_type": "code",
   "execution_count": 17,
   "id": "9bd82752-8037-41a5-ab59-e462019f382c",
   "metadata": {},
   "outputs": [],
   "source": [
    "m = np.random.rand(3,3,3)"
   ]
  },
  {
   "cell_type": "code",
   "execution_count": 18,
   "id": "776eb30c-0634-488f-909f-997d24df1983",
   "metadata": {},
   "outputs": [
    {
     "data": {
      "text/plain": [
       "(3, 3, 3)"
      ]
     },
     "execution_count": 18,
     "metadata": {},
     "output_type": "execute_result"
    }
   ],
   "source": [
    "m.shape"
   ]
  },
  {
   "cell_type": "markdown",
   "id": "5ddf867d-5090-46cc-868e-091e7b6d89b8",
   "metadata": {},
   "source": [
    "## How to create a 5x5 array with random values and find the minimum and maximum values using \n",
    "NumPy?"
   ]
  },
  {
   "cell_type": "code",
   "execution_count": 26,
   "id": "ec00cd03-a45a-4cab-adcc-ce38225160d0",
   "metadata": {},
   "outputs": [
    {
     "data": {
      "text/plain": [
       "array([[0.49195869, 0.65699076, 0.37886345, 0.77101682, 0.58725374],\n",
       "       [0.89540037, 0.86897826, 0.55441887, 0.32847654, 0.13079007],\n",
       "       [0.91984913, 0.17366651, 0.41734531, 0.61386048, 0.00126243],\n",
       "       [0.16053648, 0.97781433, 0.05387698, 0.65247084, 0.30952962],\n",
       "       [0.17989984, 0.15256168, 0.32631499, 0.41067308, 0.85844216]])"
      ]
     },
     "execution_count": 26,
     "metadata": {},
     "output_type": "execute_result"
    }
   ],
   "source": [
    "n = np.random.rand(5,5)\n",
    "n\n",
    "\n"
   ]
  },
  {
   "cell_type": "code",
   "execution_count": 27,
   "id": "76608eaa-3f37-42ca-b366-62b62afc63f7",
   "metadata": {},
   "outputs": [
    {
     "data": {
      "text/plain": [
       "0.0012624310289214291"
      ]
     },
     "execution_count": 27,
     "metadata": {},
     "output_type": "execute_result"
    }
   ],
   "source": [
    "n.min()"
   ]
  },
  {
   "cell_type": "code",
   "execution_count": 29,
   "id": "be52dd61-712c-4141-b7e4-d1a8523b6a12",
   "metadata": {},
   "outputs": [
    {
     "data": {
      "text/plain": [
       "0.9778143262728082"
      ]
     },
     "execution_count": 29,
     "metadata": {},
     "output_type": "execute_result"
    }
   ],
   "source": [
    "n.max()"
   ]
  },
  {
   "cell_type": "markdown",
   "id": "231db716-298f-4e85-aa7e-3b70a2bd31fa",
   "metadata": {},
   "source": [
    "## How to compute the mean, standard deviation, and variance of a given array along the second axis in \n",
    "NumPy?"
   ]
  },
  {
   "cell_type": "code",
   "execution_count": 30,
   "id": "1b3f5144-7da2-483f-840c-92f8cc238187",
   "metadata": {},
   "outputs": [
    {
     "data": {
      "text/plain": [
       "array([[3, 2, 7, 6],\n",
       "       [5, 7, 7, 3],\n",
       "       [7, 8, 1, 5],\n",
       "       [7, 4, 5, 4]])"
      ]
     },
     "execution_count": 30,
     "metadata": {},
     "output_type": "execute_result"
    }
   ],
   "source": [
    "matrix2 = np.random.randint(1,9,(4,4))\n",
    "matrix2"
   ]
  },
  {
   "cell_type": "code",
   "execution_count": 34,
   "id": "6d4f258d-a680-40a5-a2ac-ad35ad71be99",
   "metadata": {},
   "outputs": [
    {
     "data": {
      "text/plain": [
       "array([4.5 , 5.5 , 5.25, 5.  ])"
      ]
     },
     "execution_count": 34,
     "metadata": {},
     "output_type": "execute_result"
    }
   ],
   "source": [
    "matrix2.mean(axis=1)"
   ]
  },
  {
   "cell_type": "code",
   "execution_count": 35,
   "id": "aaff3cf8-82db-4eb5-883f-081c55d08c2a",
   "metadata": {},
   "outputs": [
    {
     "data": {
      "text/plain": [
       "array([2.06155281, 1.6583124 , 2.68095132, 1.22474487])"
      ]
     },
     "execution_count": 35,
     "metadata": {},
     "output_type": "execute_result"
    }
   ],
   "source": [
    "matrix2.std(axis=1)"
   ]
  },
  {
   "cell_type": "code",
   "execution_count": 36,
   "id": "dab04cf0-3f55-4e42-80f9-8f9b620ba727",
   "metadata": {},
   "outputs": [
    {
     "data": {
      "text/plain": [
       "array([4.25  , 2.75  , 7.1875, 1.5   ])"
      ]
     },
     "execution_count": 36,
     "metadata": {},
     "output_type": "execute_result"
    }
   ],
   "source": [
    "matrix2.var(axis=1)"
   ]
  },
  {
   "cell_type": "code",
   "execution_count": null,
   "id": "5b50710d-e105-4044-adbb-714c45a64f2b",
   "metadata": {},
   "outputs": [],
   "source": []
  }
 ],
 "metadata": {
  "kernelspec": {
   "display_name": "Python 3 (ipykernel)",
   "language": "python",
   "name": "python3"
  },
  "language_info": {
   "codemirror_mode": {
    "name": "ipython",
    "version": 3
   },
   "file_extension": ".py",
   "mimetype": "text/x-python",
   "name": "python",
   "nbconvert_exporter": "python",
   "pygments_lexer": "ipython3",
   "version": "3.12.1"
  }
 },
 "nbformat": 4,
 "nbformat_minor": 5
}
