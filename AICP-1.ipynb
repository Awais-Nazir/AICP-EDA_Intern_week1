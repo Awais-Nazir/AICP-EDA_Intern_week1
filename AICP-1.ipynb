{
 "cells": [
  {
   "cell_type": "markdown",
   "id": "5c1d2e8e-b80e-4f89-8acd-6f8ededc92b8",
   "metadata": {},
   "source": [
    "# AICP Internship Task 1"
   ]
  },
  {
   "cell_type": "code",
   "execution_count": 1,
   "id": "b0aa11df-2bd3-46bd-9f4e-03705bc2fe37",
   "metadata": {},
   "outputs": [],
   "source": [
    "import numpy as np"
   ]
  },
  {
   "cell_type": "markdown",
   "id": "80f7c7c7-6032-481d-8db1-e0fa673aa9ed",
   "metadata": {},
   "source": [
    "## Write a NumPy program to create an array of all even integers from 30 to 70. "
   ]
  },
  {
   "cell_type": "code",
   "execution_count": 2,
   "id": "30411afb-98d1-4d81-aca5-49091c3aa33d",
   "metadata": {},
   "outputs": [
    {
     "data": {
      "text/plain": [
       "array([30, 32, 34, 36, 38, 40, 42, 44, 46, 48, 50, 52, 54, 56, 58, 60, 62,\n",
       "       64, 66, 68, 70])"
      ]
     },
     "execution_count": 2,
     "metadata": {},
     "output_type": "execute_result"
    }
   ],
   "source": [
    "even_integers = np.arange(30,71,2)\n",
    "even_integers"
   ]
  },
  {
   "cell_type": "markdown",
   "id": "2e203a27-6601-4d4a-aa8e-c2cac5d3cba8",
   "metadata": {},
   "source": [
    "## Write a NumPy program to generate an array of 15 random numbers from a standard normal \n",
    "distribution.\r"
   ]
  },
  {
   "cell_type": "code",
   "execution_count": 4,
   "id": "cdc6ed59-906d-4f12-96f3-82c312b57f92",
   "metadata": {},
   "outputs": [
    {
     "data": {
      "text/plain": [
       "array([ 0.1393783 , -0.08632813,  0.49592135, -0.02220229, -0.21363622,\n",
       "       -0.70955408,  0.09314641, -0.40540383,  0.34625249, -0.07582662,\n",
       "       -0.34033592,  0.96621444,  0.83692082, -1.56925094, -0.69375619])"
      ]
     },
     "execution_count": 4,
     "metadata": {},
     "output_type": "execute_result"
    }
   ],
   "source": [
    "random_std = np.random.randn(15)\n",
    "random_std"
   ]
  },
  {
   "cell_type": "code",
   "execution_count": 6,
   "id": "446d2638-eb1b-46fe-8558-e89d764a5c9c",
   "metadata": {},
   "outputs": [
    {
     "data": {
      "text/plain": [
       "(15,)"
      ]
     },
     "execution_count": 6,
     "metadata": {},
     "output_type": "execute_result"
    }
   ],
   "source": [
    "random_std.shape"
   ]
  },
  {
   "cell_type": "code",
   "execution_count": 12,
   "id": "b2b17506-3dcd-42e7-a51a-7ab1d6818a20",
   "metadata": {},
   "outputs": [
    {
     "data": {
      "text/plain": [
       "array([[ 0.1393783 , -0.08632813,  0.49592135],\n",
       "       [-0.02220229, -0.21363622, -0.70955408],\n",
       "       [ 0.09314641, -0.40540383,  0.34625249],\n",
       "       [-0.07582662, -0.34033592,  0.96621444],\n",
       "       [ 0.83692082, -1.56925094, -0.69375619]])"
      ]
     },
     "execution_count": 12,
     "metadata": {},
     "output_type": "execute_result"
    }
   ],
   "source": [
    "random_std.resize(5,3)\n",
    "random_std"
   ]
  },
  {
   "cell_type": "markdown",
   "id": "b89b931c-0e39-43d0-b109-a19070688f2b",
   "metadata": {},
   "source": [
    "## How to compute the cross-product of two matrices in NumPy?"
   ]
  },
  {
   "cell_type": "markdown",
   "id": "c4b46a62-dad0-4993-a462-30c22f8eabb3",
   "metadata": {},
   "source": [
    "## A = np.random.randint("
   ]
  }
 ],
 "metadata": {
  "kernelspec": {
   "display_name": "Python 3 (ipykernel)",
   "language": "python",
   "name": "python3"
  },
  "language_info": {
   "codemirror_mode": {
    "name": "ipython",
    "version": 3
   },
   "file_extension": ".py",
   "mimetype": "text/x-python",
   "name": "python",
   "nbconvert_exporter": "python",
   "pygments_lexer": "ipython3",
   "version": "3.12.1"
  }
 },
 "nbformat": 4,
 "nbformat_minor": 5
}
